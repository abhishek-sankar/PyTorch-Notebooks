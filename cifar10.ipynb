{
 "cells": [
  {
   "cell_type": "code",
   "execution_count": 1,
   "metadata": {},
   "outputs": [],
   "source": [
    "import torch\n",
    "import torchvision\n",
    "import torchvision.transforms as transforms"
   ]
  },
  {
   "cell_type": "code",
   "execution_count": 2,
   "metadata": {},
   "outputs": [],
   "source": [
    "import torch\n",
    "from torch import nn\n",
    "from torch.utils.data import DataLoader\n",
    "from torchvision import datasets\n",
    "from torchvision.transforms import ToTensor"
   ]
  },
  {
   "cell_type": "code",
   "execution_count": 3,
   "metadata": {},
   "outputs": [],
   "source": [
    "training_data = datasets.FashionMNIST(\n",
    "\troot=\"data\",\n",
    "\ttrain=True,\n",
    "\tdownload=True,\n",
    " \ttransform=ToTensor()\t\n",
    ")\n",
    "\n",
    "testing_data = datasets.FashionMNIST(\n",
    "\troot=\"data\",\n",
    "\ttrain=False,\n",
    "\tdownload=True,\n",
    "\ttransform=ToTensor()\n",
    ")"
   ]
  },
  {
   "cell_type": "code",
   "execution_count": 4,
   "metadata": {},
   "outputs": [],
   "source": [
    "batch_size = 64\n",
    "train_dataloader = DataLoader(training_data, batch_size=batch_size)\n",
    "test_dataloader = DataLoader(testing_data, batch_size=batch_size)"
   ]
  },
  {
   "cell_type": "code",
   "execution_count": 5,
   "metadata": {},
   "outputs": [
    {
     "name": "stdout",
     "output_type": "stream",
     "text": [
      "Shape of X [N, C, H, W]: torch.Size([64, 1, 28, 28])\n",
      "Shape of y: torch.Size([64]) torch.int64\n"
     ]
    }
   ],
   "source": [
    "\n",
    "for X, y in test_dataloader:\n",
    "    print(f\"Shape of X [N, C, H, W]: {X.shape}\")\n",
    "    print(f\"Shape of y: {y.shape} {y.dtype}\")\n",
    "    break"
   ]
  },
  {
   "cell_type": "code",
   "execution_count": 6,
   "metadata": {},
   "outputs": [
    {
     "name": "stdout",
     "output_type": "stream",
     "text": [
      "Using cpu device\n"
     ]
    }
   ],
   "source": [
    "device = (\n",
    "    \"cuda\"\n",
    "    if torch.cuda.is_available()\n",
    "    else \"mps\"\n",
    "    if torch.backends.mps.is_available()\n",
    "    else \"cpu\"\n",
    ")\n",
    "print(f\"Using {device} device\")"
   ]
  },
  {
   "cell_type": "code",
   "execution_count": null,
   "metadata": {},
   "outputs": [],
   "source": []
  },
  {
   "cell_type": "code",
   "execution_count": 9,
   "metadata": {},
   "outputs": [
    {
     "name": "stdout",
     "output_type": "stream",
     "text": [
      "NeuralNetwork(\n",
      "  (flatten): Flatten(start_dim=1, end_dim=-1)\n",
      "  (linear_relu_stack): Sequential(\n",
      "    (0): Linear(in_features=784, out_features=512, bias=True)\n",
      "    (1): ReLU()\n",
      "    (2): Linear(in_features=512, out_features=512, bias=True)\n",
      "    (3): ReLU()\n",
      "    (4): Linear(in_features=512, out_features=10, bias=True)\n",
      "  )\n",
      ")\n"
     ]
    }
   ],
   "source": [
    "class NeuralNetwork(nn.Module):\n",
    "    def __init__(self):\n",
    "        super(NeuralNetwork, self).__init__()\n",
    "        self.flatten = nn.Flatten()\n",
    "        self.linear_relu_stack = nn.Sequential(\n",
    "\t\t\tnn.Linear(28*28, 512),\n",
    "\t\t\tnn.ReLU(),\n",
    "   \t\t\tnn.Linear(512, 512),\n",
    "\t   \t\tnn.ReLU(),\n",
    "   \t\t\tnn.Linear(512, 10),\n",
    "\t\t)\n",
    "        \n",
    "    def forward(self, x):\n",
    "        x = self.flatten(x)\n",
    "        logits = self.linear_relu_stack(x)\n",
    "        return logits\n",
    "    \n",
    "model = NeuralNetwork().to(device)\n",
    "print(model)"
   ]
  },
  {
   "cell_type": "code",
   "execution_count": 11,
   "metadata": {},
   "outputs": [],
   "source": [
    "loss_fn = nn.CrossEntropyLoss()\n",
    "optimizer = torch.optim.SGD(model.parameters(), lr = 1e-2)\n"
   ]
  },
  {
   "cell_type": "code",
   "execution_count": 12,
   "metadata": {},
   "outputs": [],
   "source": [
    "def train(dataloader, model, optimiser, loss_fn):\n",
    "    size = len(dataloader.dataset)\n",
    "    model.train()\n",
    "    for batch , (X, y) in enumerate(dataloader):\n",
    "        X, y = X.to(device), y.to(device)\n",
    "        \n",
    "        pred = model(X)\n",
    "        loss = loss_fn(pred, y)\n",
    "        \n",
    "        loss.backward()\n",
    "        optimiser.step()\n",
    "        optimiser.zero_grad()\n",
    "        \n",
    "        if batch % 100 == 0:\n",
    "            loss, current = loss.item(), batch * len(X)\n",
    "            print(f\"loss: {loss:>7f} [{current:>5d}/{size:>5d}]\")\n",
    "        "
   ]
  },
  {
   "cell_type": "code",
   "execution_count": 13,
   "metadata": {},
   "outputs": [],
   "source": [
    "def test(dataloader, model, loss_fn):\n",
    "\tsize = len(dataloader.dataset)\n",
    "\tnum_batches = len(dataloader)\n",
    "\tmodel.eval()\n",
    "\ttest_loss, correct = 0, 0\n",
    "\twith torch.no_grad():\n",
    "\t\tfor X, y in dataloader:\n",
    "\t\t\tX, y = X.to(device), y.to(device)\n",
    "\t\t\tpred = model(X)\n",
    "\t\t\ttest_loss += loss_fn(pred, y).item()\n",
    "\t\t\tcorrect += (pred.argmax(1) == y).type(torch.float).sum().item()\n",
    "\n",
    "\ttest_loss /=num_batches\n",
    "\tcorrect /= size\n",
    "\tprint(f\"Test Error: \\n Accuracy: {(100*correct):>0.1f}%, Avg loss: {test_loss:>8f} \\n\")"
   ]
  },
  {
   "cell_type": "code",
   "execution_count": 14,
   "metadata": {},
   "outputs": [
    {
     "name": "stdout",
     "output_type": "stream",
     "text": [
      "Epoch 1\n",
      "-------------------------------\n",
      "loss: 2.308882 [    0/60000]\n",
      "loss: 2.151703 [ 6400/60000]\n",
      "loss: 1.748303 [12800/60000]\n",
      "loss: 1.454899 [19200/60000]\n",
      "loss: 1.107123 [25600/60000]\n",
      "loss: 1.018307 [32000/60000]\n",
      "loss: 0.994534 [38400/60000]\n",
      "loss: 0.871709 [44800/60000]\n",
      "loss: 0.859045 [51200/60000]\n",
      "loss: 0.809340 [57600/60000]\n",
      "Test Error: \n",
      " Accuracy: 71.2%, Avg loss: 0.789373 \n",
      "\n",
      "Epoch 2\n",
      "-------------------------------\n",
      "loss: 0.782626 [    0/60000]\n",
      "loss: 0.850298 [ 6400/60000]\n",
      "loss: 0.581622 [12800/60000]\n",
      "loss: 0.784934 [19200/60000]\n",
      "loss: 0.660822 [25600/60000]\n",
      "loss: 0.637098 [32000/60000]\n",
      "loss: 0.710372 [38400/60000]\n",
      "loss: 0.681949 [44800/60000]\n",
      "loss: 0.693674 [51200/60000]\n",
      "loss: 0.641514 [57600/60000]\n",
      "Test Error: \n",
      " Accuracy: 77.9%, Avg loss: 0.631220 \n",
      "\n",
      "Epoch 3\n",
      "-------------------------------\n",
      "loss: 0.555185 [    0/60000]\n",
      "loss: 0.657388 [ 6400/60000]\n",
      "loss: 0.434221 [12800/60000]\n",
      "loss: 0.670135 [19200/60000]\n",
      "loss: 0.581655 [25600/60000]\n",
      "loss: 0.559000 [32000/60000]\n",
      "loss: 0.591813 [38400/60000]\n",
      "loss: 0.639270 [44800/60000]\n",
      "loss: 0.663910 [51200/60000]\n",
      "loss: 0.551477 [57600/60000]\n",
      "Test Error: \n",
      " Accuracy: 79.8%, Avg loss: 0.569988 \n",
      "\n",
      "Epoch 4\n",
      "-------------------------------\n",
      "loss: 0.462473 [    0/60000]\n",
      "loss: 0.572120 [ 6400/60000]\n",
      "loss: 0.375177 [12800/60000]\n",
      "loss: 0.605377 [19200/60000]\n",
      "loss: 0.525764 [25600/60000]\n",
      "loss: 0.518543 [32000/60000]\n",
      "loss: 0.533137 [38400/60000]\n",
      "loss: 0.638035 [44800/60000]\n",
      "loss: 0.647339 [51200/60000]\n",
      "loss: 0.492186 [57600/60000]\n",
      "Test Error: \n",
      " Accuracy: 80.8%, Avg loss: 0.539051 \n",
      "\n",
      "Epoch 5\n",
      "-------------------------------\n",
      "loss: 0.406197 [    0/60000]\n",
      "loss: 0.527914 [ 6400/60000]\n",
      "loss: 0.342826 [12800/60000]\n",
      "loss: 0.561834 [19200/60000]\n",
      "loss: 0.481676 [25600/60000]\n",
      "loss: 0.490697 [32000/60000]\n",
      "loss: 0.498841 [38400/60000]\n",
      "loss: 0.632720 [44800/60000]\n",
      "loss: 0.625006 [51200/60000]\n",
      "loss: 0.456333 [57600/60000]\n",
      "Test Error: \n",
      " Accuracy: 81.2%, Avg loss: 0.518242 \n",
      "\n",
      "Epoch 6\n",
      "-------------------------------\n",
      "loss: 0.364649 [    0/60000]\n",
      "loss: 0.501362 [ 6400/60000]\n",
      "loss: 0.320096 [12800/60000]\n",
      "loss: 0.531778 [19200/60000]\n",
      "loss: 0.450895 [25600/60000]\n",
      "loss: 0.472040 [32000/60000]\n",
      "loss: 0.475754 [38400/60000]\n",
      "loss: 0.619440 [44800/60000]\n",
      "loss: 0.602587 [51200/60000]\n",
      "loss: 0.436403 [57600/60000]\n",
      "Test Error: \n",
      " Accuracy: 81.7%, Avg loss: 0.503319 \n",
      "\n",
      "Epoch 7\n",
      "-------------------------------\n",
      "loss: 0.333957 [    0/60000]\n",
      "loss: 0.482915 [ 6400/60000]\n",
      "loss: 0.301932 [12800/60000]\n",
      "loss: 0.509687 [19200/60000]\n",
      "loss: 0.428736 [25600/60000]\n",
      "loss: 0.459048 [32000/60000]\n",
      "loss: 0.459450 [38400/60000]\n",
      "loss: 0.603837 [44800/60000]\n",
      "loss: 0.581663 [51200/60000]\n",
      "loss: 0.424583 [57600/60000]\n",
      "Test Error: \n",
      " Accuracy: 82.1%, Avg loss: 0.490915 \n",
      "\n",
      "Epoch 8\n",
      "-------------------------------\n",
      "loss: 0.310933 [    0/60000]\n",
      "loss: 0.467740 [ 6400/60000]\n",
      "loss: 0.287233 [12800/60000]\n",
      "loss: 0.493753 [19200/60000]\n",
      "loss: 0.409996 [25600/60000]\n",
      "loss: 0.449622 [32000/60000]\n",
      "loss: 0.446016 [38400/60000]\n",
      "loss: 0.587887 [44800/60000]\n",
      "loss: 0.563754 [51200/60000]\n",
      "loss: 0.416588 [57600/60000]\n",
      "Test Error: \n",
      " Accuracy: 82.5%, Avg loss: 0.480084 \n",
      "\n",
      "Epoch 9\n",
      "-------------------------------\n",
      "loss: 0.294152 [    0/60000]\n",
      "loss: 0.454179 [ 6400/60000]\n",
      "loss: 0.275537 [12800/60000]\n",
      "loss: 0.480660 [19200/60000]\n",
      "loss: 0.393510 [25600/60000]\n",
      "loss: 0.442096 [32000/60000]\n",
      "loss: 0.433459 [38400/60000]\n",
      "loss: 0.573103 [44800/60000]\n",
      "loss: 0.547928 [51200/60000]\n",
      "loss: 0.411922 [57600/60000]\n",
      "Test Error: \n",
      " Accuracy: 82.9%, Avg loss: 0.469896 \n",
      "\n",
      "Epoch 10\n",
      "-------------------------------\n",
      "loss: 0.281876 [    0/60000]\n",
      "loss: 0.441250 [ 6400/60000]\n",
      "loss: 0.266519 [12800/60000]\n",
      "loss: 0.469056 [19200/60000]\n",
      "loss: 0.379184 [25600/60000]\n",
      "loss: 0.434855 [32000/60000]\n",
      "loss: 0.421938 [38400/60000]\n",
      "loss: 0.559924 [44800/60000]\n",
      "loss: 0.533270 [51200/60000]\n",
      "loss: 0.406953 [57600/60000]\n",
      "Test Error: \n",
      " Accuracy: 83.4%, Avg loss: 0.459618 \n",
      "\n"
     ]
    }
   ],
   "source": [
    "epochs = 10\n",
    "for t in range(epochs):\n",
    "    print(f\"Epoch {t+1}\\n-------------------------------\")\n",
    "    train(train_dataloader, model, optimizer, loss_fn)\n",
    "    test(test_dataloader, model, loss_fn)"
   ]
  },
  {
   "cell_type": "code",
   "execution_count": 15,
   "metadata": {},
   "outputs": [
    {
     "name": "stdout",
     "output_type": "stream",
     "text": [
      "Saved PyTorch Model State to model.pth\n"
     ]
    }
   ],
   "source": [
    "torch.save(model.state_dict(), \"model.pth\")\n",
    "print(\"Saved PyTorch Model State to model.pth\")"
   ]
  },
  {
   "cell_type": "code",
   "execution_count": 16,
   "metadata": {},
   "outputs": [
    {
     "data": {
      "text/plain": [
       "<All keys matched successfully>"
      ]
     },
     "execution_count": 16,
     "metadata": {},
     "output_type": "execute_result"
    }
   ],
   "source": [
    "model = NeuralNetwork().to(device)\n",
    "model.load_state_dict(torch.load(\"model.pth\", weights_only=True))"
   ]
  },
  {
   "cell_type": "code",
   "execution_count": 18,
   "metadata": {},
   "outputs": [
    {
     "name": "stdout",
     "output_type": "stream",
     "text": [
      "Predicted: \"Dress\", Actual: \"Dress\"\n"
     ]
    }
   ],
   "source": [
    "classes = [\n",
    "    \"T-shirt/top\",\n",
    "    \"Trouser\",\n",
    "    \"Pullover\",\n",
    "    \"Dress\",\n",
    "    \"Coat\",\n",
    "    \"Sandal\",\n",
    "    \"Shirt\",\n",
    "    \"Sneaker\",\n",
    "    \"Bag\",\n",
    "    \"Ankle boot\",\n",
    "]\n",
    "\n",
    "model.eval()\n",
    "x, y = testing_data[100][0], testing_data[100][1]\n",
    "with torch.no_grad():\n",
    "    x = x.to(device)\n",
    "    pred = model(x)\n",
    "    predicted, actual = classes[pred[0].argmax(0)], classes[y]\n",
    "    print(f'Predicted: \"{predicted}\", Actual: \"{actual}\"')"
   ]
  },
  {
   "cell_type": "code",
   "execution_count": null,
   "metadata": {},
   "outputs": [],
   "source": []
  }
 ],
 "metadata": {
  "kernelspec": {
   "display_name": "Python 3",
   "language": "python",
   "name": "python3"
  },
  "language_info": {
   "codemirror_mode": {
    "name": "ipython",
    "version": 3
   },
   "file_extension": ".py",
   "mimetype": "text/x-python",
   "name": "python",
   "nbconvert_exporter": "python",
   "pygments_lexer": "ipython3",
   "version": "3.9.21"
  }
 },
 "nbformat": 4,
 "nbformat_minor": 2
}
