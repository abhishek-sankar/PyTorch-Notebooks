{
 "cells": [
  {
   "cell_type": "code",
   "execution_count": 1,
   "metadata": {},
   "outputs": [],
   "source": [
    "import torch\n",
    "from torch import nn\n",
    "from torch.utils.data import DataLoader\n",
    "from torchvision import datasets\n",
    "from torchvision.transforms import ToTensor"
   ]
  },
  {
   "cell_type": "code",
   "execution_count": 31,
   "metadata": {},
   "outputs": [],
   "source": [
    "training_data = datasets.MNIST(\n",
    "\troot=\"data\",\n",
    "\ttrain=True,\n",
    "\tdownload=True,\n",
    " \ttransform=ToTensor()\t\n",
    ")\n",
    "\n",
    "testing_data = datasets.MNIST(\n",
    "\troot=\"data\",\n",
    "\ttrain=False,\n",
    "\tdownload=True,\n",
    "\ttransform=ToTensor()\n",
    ")"
   ]
  },
  {
   "cell_type": "code",
   "execution_count": 3,
   "metadata": {},
   "outputs": [],
   "source": [
    "batch_size = 128\n",
    "training_data = DataLoader(\n",
    "\ttraining_data,\n",
    "\tbatch_size=batch_size\n",
    ")\t\n",
    "\n",
    "testing_data = DataLoader(\n",
    "\ttesting_data,\n",
    "\tbatch_size=batch_size\n",
    ")"
   ]
  },
  {
   "cell_type": "code",
   "execution_count": 6,
   "metadata": {},
   "outputs": [
    {
     "name": "stdout",
     "output_type": "stream",
     "text": [
      "Shape of X [N, C, H, W]: torch.Size([128, 1, 28, 28])\n",
      "Shape of y: torch.Size([128]), torch.int64\n"
     ]
    }
   ],
   "source": [
    "for X, y in training_data:\n",
    "    print(f\"Shape of X [N, C, H, W]: {X.shape}\")\n",
    "    print(f\"Shape of y: {y.shape}, {y.dtype}\")\n",
    "    break"
   ]
  },
  {
   "cell_type": "code",
   "execution_count": 7,
   "metadata": {},
   "outputs": [],
   "source": [
    "device = \"cuda\" if torch.cuda.is_available() else \"cpu\""
   ]
  },
  {
   "cell_type": "code",
   "execution_count": 8,
   "metadata": {},
   "outputs": [
    {
     "name": "stdout",
     "output_type": "stream",
     "text": [
      "NeuralNetworkMNIST(\n",
      "  (flatten): Flatten(start_dim=1, end_dim=-1)\n",
      "  (linear_relu_stack): Sequential(\n",
      "    (0): Linear(in_features=784, out_features=1024, bias=True)\n",
      "    (1): ReLU()\n",
      "    (2): Linear(in_features=1024, out_features=512, bias=True)\n",
      "    (3): ReLU()\n",
      "    (4): Linear(in_features=512, out_features=10, bias=True)\n",
      "  )\n",
      ")\n"
     ]
    }
   ],
   "source": [
    "class NeuralNetworkMNIST(nn.Module):\n",
    "\tdef __init__(self):\n",
    "\t\tsuper(NeuralNetworkMNIST, self).__init__()\n",
    "\t\tself.flatten = nn.Flatten()\n",
    "\t\tself.linear_relu_stack =nn.Sequential(\n",
    "\t\t\tnn.Linear(28*28, 1024),\n",
    "\t\t\tnn.ReLU(),\n",
    "\t\t\tnn.Linear(1024, 512),\t\t\n",
    "\t\t\tnn.ReLU(),\n",
    "\t\t\tnn.Linear(512, 10),\n",
    "\t\t)\n",
    "\tdef forward(self, x):\n",
    "\t\tx = self.flatten(x)\n",
    "\t\tlogits = self.linear_relu_stack(x)\n",
    "\t\treturn logits\n",
    "\n",
    "model = NeuralNetworkMNIST().to(device)\n",
    "print(model)\n",
    "\t"
   ]
  },
  {
   "cell_type": "code",
   "execution_count": 22,
   "metadata": {},
   "outputs": [],
   "source": [
    "loss_fn = nn.CrossEntropyLoss()\n",
    "optimizer = torch.optim.Adam(model.parameters(), lr=1e-3)"
   ]
  },
  {
   "cell_type": "code",
   "execution_count": 23,
   "metadata": {},
   "outputs": [],
   "source": [
    "def train(dataloader, model, loss_fn, optimizer):\n",
    "# 1. Set the model to training mode: This enables dropout and batch normalization layers.\n",
    "\tsize = len(dataloader.dataset)\n",
    "\tmodel.train()\n",
    "# 2. Iterate over the dataloader: Loop through batches of data.\n",
    "\tfor batch, (X, y) in enumerate(dataloader):\n",
    "\t\tX, y = X.to(device), y.to(device)\n",
    "# 3. Zero the gradients: Clear previous gradients to prevent accumulation.\n",
    "\t\toptimizer.zero_grad()\n",
    "# 4. Forward pass: Pass the input data through the model to get predictions.\n",
    "\t\tpred = model(X)\n",
    "# 5. Compute the loss: Use the loss function to compare predictions with true labels.\n",
    "\t\tloss = loss_fn(pred, y)\n",
    "# 6. Backward pass: Calculate gradients with respect to the loss.\n",
    "\t\tloss.backward()\n",
    "# 7. Update weights: Use the optimizer to adjust model parameters based on gradients.\n",
    "\t\toptimizer.step()\n",
    "\t\tif batch % 100 == 0:\n",
    "\t\t\tloss, current = loss.item(), batch * len(X)\n",
    "\t\t\tprint(f\"loss: {loss:>7f}  [{current:>5d}/{size:>5d}]\")"
   ]
  },
  {
   "cell_type": "code",
   "execution_count": 26,
   "metadata": {},
   "outputs": [],
   "source": [
    "def test(dataloader, model, loss_fn):\n",
    "\tsize = len(dataloader.dataset)\n",
    "\tmodel.eval()\n",
    "\ttotal_loss, correct = 0, 0\n",
    "\twith torch.no_grad():\n",
    "\t\tfor batch, (X, y) in enumerate(dataloader):\n",
    "\t\t\tX, y = X.to(device), y.to(device)\n",
    "\t\t\tpred = model(X)\n",
    "\t\t\ttotal_loss += loss_fn(pred, y).item()\n",
    "\t\t\tcorrect += (pred.argmax(1) == y).type(torch.float).sum().item()\n",
    "\ttotal_loss/= size\n",
    "\tcorrect /= size\n",
    "\tprint(f\"Test error: \\n Accuracy: {(100*correct):>0.1f}%, Avg loss: {total_loss:>8f}\\n\")\n"
   ]
  },
  {
   "cell_type": "code",
   "execution_count": 27,
   "metadata": {},
   "outputs": [
    {
     "name": "stdout",
     "output_type": "stream",
     "text": [
      "Epoch 1\n",
      "-------------------------------\n",
      "loss: 0.076017  [    0/60000]\n",
      "loss: 0.087619  [12800/60000]\n",
      "loss: 0.107014  [25600/60000]\n",
      "loss: 0.066440  [38400/60000]\n",
      "loss: 0.110896  [51200/60000]\n",
      "Test error: \n",
      " Accuracy: 95.8%, Avg loss: 0.001045\n",
      "\n",
      "Epoch 2\n",
      "-------------------------------\n",
      "loss: 0.098164  [    0/60000]\n",
      "loss: 0.067306  [12800/60000]\n",
      "loss: 0.095153  [25600/60000]\n",
      "loss: 0.048946  [38400/60000]\n",
      "loss: 0.105829  [51200/60000]\n",
      "Test error: \n",
      " Accuracy: 95.3%, Avg loss: 0.001280\n",
      "\n",
      "Epoch 3\n",
      "-------------------------------\n",
      "loss: 0.044147  [    0/60000]\n",
      "loss: 0.046111  [12800/60000]\n",
      "loss: 0.047516  [25600/60000]\n",
      "loss: 0.022430  [38400/60000]\n",
      "loss: 0.119219  [51200/60000]\n",
      "Test error: \n",
      " Accuracy: 97.0%, Avg loss: 0.000811\n",
      "\n",
      "Epoch 4\n",
      "-------------------------------\n",
      "loss: 0.075996  [    0/60000]\n",
      "loss: 0.091946  [12800/60000]\n",
      "loss: 0.054574  [25600/60000]\n",
      "loss: 0.026287  [38400/60000]\n",
      "loss: 0.089676  [51200/60000]\n",
      "Test error: \n",
      " Accuracy: 96.7%, Avg loss: 0.001019\n",
      "\n",
      "Epoch 5\n",
      "-------------------------------\n",
      "loss: 0.023431  [    0/60000]\n",
      "loss: 0.011102  [12800/60000]\n",
      "loss: 0.009886  [25600/60000]\n",
      "loss: 0.018295  [38400/60000]\n",
      "loss: 0.049181  [51200/60000]\n",
      "Test error: \n",
      " Accuracy: 97.9%, Avg loss: 0.000611\n",
      "\n",
      "Epoch 6\n",
      "-------------------------------\n",
      "loss: 0.006922  [    0/60000]\n",
      "loss: 0.016592  [12800/60000]\n",
      "loss: 0.013849  [25600/60000]\n",
      "loss: 0.006467  [38400/60000]\n",
      "loss: 0.071198  [51200/60000]\n",
      "Test error: \n",
      " Accuracy: 97.8%, Avg loss: 0.000722\n",
      "\n",
      "Epoch 7\n",
      "-------------------------------\n",
      "loss: 0.015462  [    0/60000]\n",
      "loss: 0.024989  [12800/60000]\n",
      "loss: 0.006971  [25600/60000]\n",
      "loss: 0.012175  [38400/60000]\n",
      "loss: 0.016390  [51200/60000]\n",
      "Test error: \n",
      " Accuracy: 97.9%, Avg loss: 0.000665\n",
      "\n",
      "Epoch 8\n",
      "-------------------------------\n",
      "loss: 0.004293  [    0/60000]\n",
      "loss: 0.007889  [12800/60000]\n",
      "loss: 0.025800  [25600/60000]\n",
      "loss: 0.012570  [38400/60000]\n",
      "loss: 0.065104  [51200/60000]\n",
      "Test error: \n",
      " Accuracy: 98.1%, Avg loss: 0.000713\n",
      "\n",
      "Epoch 9\n",
      "-------------------------------\n",
      "loss: 0.013012  [    0/60000]\n",
      "loss: 0.014859  [12800/60000]\n",
      "loss: 0.004115  [25600/60000]\n",
      "loss: 0.011668  [38400/60000]\n",
      "loss: 0.030610  [51200/60000]\n",
      "Test error: \n",
      " Accuracy: 97.8%, Avg loss: 0.000847\n",
      "\n",
      "Epoch 10\n",
      "-------------------------------\n",
      "loss: 0.055960  [    0/60000]\n",
      "loss: 0.013518  [12800/60000]\n",
      "loss: 0.015958  [25600/60000]\n",
      "loss: 0.003766  [38400/60000]\n",
      "loss: 0.008649  [51200/60000]\n",
      "Test error: \n",
      " Accuracy: 97.2%, Avg loss: 0.000977\n",
      "\n"
     ]
    }
   ],
   "source": [
    "epochs = 10\n",
    "for t in range(epochs):\n",
    "    print(f\"Epoch {t+1}\\n-------------------------------\")\n",
    "    train(training_data, model, loss_fn, optimizer)\n",
    "    test(testing_data, model, loss_fn)"
   ]
  },
  {
   "cell_type": "code",
   "execution_count": 28,
   "metadata": {},
   "outputs": [
    {
     "name": "stdout",
     "output_type": "stream",
     "text": [
      "Saved PyTorch Model State to MNISTmodel.pth\n"
     ]
    }
   ],
   "source": [
    "torch.save(model.state_dict(), \"MNISTmodel.pth\")\n",
    "print(\"Saved PyTorch Model State to MNISTmodel.pth\")"
   ]
  },
  {
   "cell_type": "code",
   "execution_count": 29,
   "metadata": {},
   "outputs": [
    {
     "data": {
      "text/plain": [
       "<All keys matched successfully>"
      ]
     },
     "execution_count": 29,
     "metadata": {},
     "output_type": "execute_result"
    }
   ],
   "source": [
    "model = NeuralNetworkMNIST().to(device)\n",
    "model.load_state_dict(torch.load(\"MNISTmodel.pth\", weights_only=True))"
   ]
  },
  {
   "cell_type": "code",
   "execution_count": 35,
   "metadata": {},
   "outputs": [
    {
     "name": "stdout",
     "output_type": "stream",
     "text": [
      "Predicted: \"2\", Actual: \"2\"\n"
     ]
    }
   ],
   "source": [
    "classes = ['0', '1', '2', '3', '4', '5', '6', '7', '8', '9']\n",
    "\n",
    "model.eval()\n",
    "x, y = testing_data[1][0], testing_data[1][1]\n",
    "with torch.no_grad():\n",
    "    x = x.to(device)\n",
    "    pred = model(x)\n",
    "    predicted, actual = classes[pred[0].argmax(0)], classes[y]\n",
    "    print(f'Predicted: \"{predicted}\", Actual: \"{actual}\"')"
   ]
  },
  {
   "cell_type": "code",
   "execution_count": null,
   "metadata": {},
   "outputs": [],
   "source": []
  }
 ],
 "metadata": {
  "kernelspec": {
   "display_name": ".venv",
   "language": "python",
   "name": "python3"
  },
  "language_info": {
   "codemirror_mode": {
    "name": "ipython",
    "version": 3
   },
   "file_extension": ".py",
   "mimetype": "text/x-python",
   "name": "python",
   "nbconvert_exporter": "python",
   "pygments_lexer": "ipython3",
   "version": "3.9.21"
  }
 },
 "nbformat": 4,
 "nbformat_minor": 2
}
